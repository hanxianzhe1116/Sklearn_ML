{
 "cells": [
  {
   "cell_type": "code",
   "execution_count": 36,
   "metadata": {},
   "outputs": [],
   "source": [
    "import pandas as pd\n",
    "import numpy as np\n",
    "import matplotlib.pyplot as plt\n",
    "import sys\n",
    "import seaborn as sns\n",
    "import warnings\n",
    "from sklearn.model_selection import train_test_split\n",
    "from sklearn.ensemble import RandomForestClassifier\n",
    "from sklearn.model_selection import GridSearchCV\n",
    "\n",
    "from sklearn.metrics import mean_squared_error as MSE\n",
    "from sklearn.metrics import accuracy_score\n",
    "from sklearn.metrics import mean_absolute_error #平方绝对误差\n",
    "from sklearn.metrics import r2_score#R square\n",
    "warnings.filterwarnings(\"ignore\")\n",
    "plt.rcParams['font.sans-serif'] = ['SimHei']  # 用来正常显示中文标签\n",
    "plt.rcParams['axes.unicode_minus'] = False  # 用来正常显示负号"
   ]
  },
  {
   "cell_type": "code",
   "execution_count": 2,
   "metadata": {},
   "outputs": [],
   "source": [
    "data_325 = pd.read_excel(\"3-数据清洗后325样本数据.xlsx\", na_values=np.nan)"
   ]
  },
  {
   "cell_type": "code",
   "execution_count": 3,
   "metadata": {},
   "outputs": [
    {
     "data": {
      "text/plain": [
       "(325, 203)"
      ]
     },
     "execution_count": 3,
     "metadata": {},
     "output_type": "execute_result"
    }
   ],
   "source": [
    "data_325.shape"
   ]
  },
  {
   "cell_type": "code",
   "execution_count": 4,
   "metadata": {},
   "outputs": [
    {
     "data": {
      "text/plain": [
       "Index(['样本编号', '时间', 'RON损失', '原料性质：硫含量', '原料性质：辛烷值', '原料性质：饱和烃', '原料性质：烯烃',\n",
       "       '原料性质：芳烃', '原料性质：溴值', '原料性质：密度', '产品性质：硫含量', '产品性质：辛烷值', '待生吸附剂性质：焦炭',\n",
       "       '待生吸附剂性质：S', '再生吸附剂性质：焦炭', '再生吸附剂性质：S', 'S-ZORB.CAL_H2.PV',\n",
       "       'S-ZORB.PDI_2102.PV', 'S-ZORB.PT_2801.PV', 'S-ZORB.FC_2801.PV',\n",
       "       'S-ZORB.TE_2103.PV', 'S-ZORB.TE_2005.PV', 'S-ZORB.PT_2101.PV',\n",
       "       'S-ZORB.PDT_2104.PV', 'S-ZORB.TE_2301.PV', 'S-ZORB.PT_2301.PV',\n",
       "       'S-ZORB.PC_2105.PV', 'S-ZORB.PC_5101.PV', 'S-ZORB.TC_5005.PV',\n",
       "       'S-ZORB.LC_5001.PV'],\n",
       "      dtype='object')"
      ]
     },
     "execution_count": 4,
     "metadata": {},
     "output_type": "execute_result"
    }
   ],
   "source": [
    "data_325.columns[:30]"
   ]
  },
  {
   "cell_type": "code",
   "execution_count": 5,
   "metadata": {},
   "outputs": [],
   "source": [
    "data_325.drop(['样本编号', '时间', '产品性质：硫含量', '产品性质：辛烷值'], axis=1, inplace=True)"
   ]
  },
  {
   "cell_type": "code",
   "execution_count": 6,
   "metadata": {},
   "outputs": [
    {
     "data": {
      "text/html": [
       "<div>\n",
       "<style scoped>\n",
       "    .dataframe tbody tr th:only-of-type {\n",
       "        vertical-align: middle;\n",
       "    }\n",
       "\n",
       "    .dataframe tbody tr th {\n",
       "        vertical-align: top;\n",
       "    }\n",
       "\n",
       "    .dataframe thead th {\n",
       "        text-align: right;\n",
       "    }\n",
       "</style>\n",
       "<table border=\"1\" class=\"dataframe\">\n",
       "  <thead>\n",
       "    <tr style=\"text-align: right;\">\n",
       "      <th></th>\n",
       "      <th>RON损失</th>\n",
       "      <th>原料性质：硫含量</th>\n",
       "      <th>原料性质：辛烷值</th>\n",
       "      <th>原料性质：饱和烃</th>\n",
       "      <th>原料性质：烯烃</th>\n",
       "      <th>原料性质：芳烃</th>\n",
       "      <th>原料性质：溴值</th>\n",
       "      <th>原料性质：密度</th>\n",
       "      <th>待生吸附剂性质：焦炭</th>\n",
       "      <th>待生吸附剂性质：S</th>\n",
       "      <th>...</th>\n",
       "      <th>S-ZORB.AT-0011.DACA.PV</th>\n",
       "      <th>S-ZORB.FT_1204.DACA.PV</th>\n",
       "      <th>S-ZORB.LC_5102.PIDA.PV</th>\n",
       "      <th>S-ZORB.TE_1102.DACA.PV</th>\n",
       "      <th>S-ZORB.CAL.LINE.PV</th>\n",
       "      <th>S-ZORB.CAL.CANGLIANG.PV</th>\n",
       "      <th>S-ZORB.CAL.SPEED.PV</th>\n",
       "      <th>S-ZORB.FT_1503.TOTALIZERA.PV</th>\n",
       "      <th>S-ZORB.FT_1504.TOTALIZERA.PV</th>\n",
       "      <th>S-ZORB.PC_1001A.PV</th>\n",
       "    </tr>\n",
       "  </thead>\n",
       "  <tbody>\n",
       "    <tr>\n",
       "      <th>0</th>\n",
       "      <td>1.38</td>\n",
       "      <td>188.0</td>\n",
       "      <td>90.6</td>\n",
       "      <td>53.230000</td>\n",
       "      <td>24.400000</td>\n",
       "      <td>22.370000</td>\n",
       "      <td>61.487143</td>\n",
       "      <td>726.085714</td>\n",
       "      <td>2.32</td>\n",
       "      <td>7.30</td>\n",
       "      <td>...</td>\n",
       "      <td>0.496243</td>\n",
       "      <td>18.292067</td>\n",
       "      <td>42.015425</td>\n",
       "      <td>425.929515</td>\n",
       "      <td>0.282564</td>\n",
       "      <td>37.804650</td>\n",
       "      <td>3.324945</td>\n",
       "      <td>39063124.5</td>\n",
       "      <td>39608757.0</td>\n",
       "      <td>0.353271</td>\n",
       "    </tr>\n",
       "    <tr>\n",
       "      <th>1</th>\n",
       "      <td>1.18</td>\n",
       "      <td>169.0</td>\n",
       "      <td>90.5</td>\n",
       "      <td>52.300000</td>\n",
       "      <td>26.400000</td>\n",
       "      <td>21.300000</td>\n",
       "      <td>61.880000</td>\n",
       "      <td>731.300000</td>\n",
       "      <td>2.37</td>\n",
       "      <td>7.34</td>\n",
       "      <td>...</td>\n",
       "      <td>0.491385</td>\n",
       "      <td>19.842605</td>\n",
       "      <td>40.903878</td>\n",
       "      <td>421.534365</td>\n",
       "      <td>0.281381</td>\n",
       "      <td>37.876006</td>\n",
       "      <td>3.321169</td>\n",
       "      <td>38810581.5</td>\n",
       "      <td>39389299.0</td>\n",
       "      <td>0.354504</td>\n",
       "    </tr>\n",
       "    <tr>\n",
       "      <th>2</th>\n",
       "      <td>1.38</td>\n",
       "      <td>177.0</td>\n",
       "      <td>90.7</td>\n",
       "      <td>52.300000</td>\n",
       "      <td>26.314286</td>\n",
       "      <td>21.385714</td>\n",
       "      <td>61.722857</td>\n",
       "      <td>729.614286</td>\n",
       "      <td>2.43</td>\n",
       "      <td>7.27</td>\n",
       "      <td>...</td>\n",
       "      <td>0.495483</td>\n",
       "      <td>26.994896</td>\n",
       "      <td>42.103142</td>\n",
       "      <td>425.258420</td>\n",
       "      <td>0.282277</td>\n",
       "      <td>37.907927</td>\n",
       "      <td>3.319569</td>\n",
       "      <td>38693812.0</td>\n",
       "      <td>39312616.5</td>\n",
       "      <td>0.350181</td>\n",
       "    </tr>\n",
       "    <tr>\n",
       "      <th>3</th>\n",
       "      <td>1.38</td>\n",
       "      <td>159.0</td>\n",
       "      <td>90.4</td>\n",
       "      <td>52.300000</td>\n",
       "      <td>26.100000</td>\n",
       "      <td>21.600000</td>\n",
       "      <td>61.330000</td>\n",
       "      <td>725.400000</td>\n",
       "      <td>3.08</td>\n",
       "      <td>7.35</td>\n",
       "      <td>...</td>\n",
       "      <td>0.490180</td>\n",
       "      <td>26.324458</td>\n",
       "      <td>41.970416</td>\n",
       "      <td>424.406195</td>\n",
       "      <td>0.282275</td>\n",
       "      <td>39.177396</td>\n",
       "      <td>3.210211</td>\n",
       "      <td>38410862.5</td>\n",
       "      <td>39120204.5</td>\n",
       "      <td>0.353930</td>\n",
       "    </tr>\n",
       "    <tr>\n",
       "      <th>4</th>\n",
       "      <td>1.28</td>\n",
       "      <td>173.0</td>\n",
       "      <td>89.6</td>\n",
       "      <td>52.242857</td>\n",
       "      <td>26.671429</td>\n",
       "      <td>21.085714</td>\n",
       "      <td>61.332857</td>\n",
       "      <td>725.428571</td>\n",
       "      <td>2.45</td>\n",
       "      <td>6.58</td>\n",
       "      <td>...</td>\n",
       "      <td>0.501194</td>\n",
       "      <td>30.224367</td>\n",
       "      <td>42.900094</td>\n",
       "      <td>428.514740</td>\n",
       "      <td>0.282963</td>\n",
       "      <td>39.508370</td>\n",
       "      <td>3.178832</td>\n",
       "      <td>38283000.0</td>\n",
       "      <td>39045953.5</td>\n",
       "      <td>0.358053</td>\n",
       "    </tr>\n",
       "  </tbody>\n",
       "</table>\n",
       "<p>5 rows × 199 columns</p>\n",
       "</div>"
      ],
      "text/plain": [
       "   RON损失  原料性质：硫含量  原料性质：辛烷值   原料性质：饱和烃    原料性质：烯烃    原料性质：芳烃    原料性质：溴值  \\\n",
       "0   1.38     188.0      90.6  53.230000  24.400000  22.370000  61.487143   \n",
       "1   1.18     169.0      90.5  52.300000  26.400000  21.300000  61.880000   \n",
       "2   1.38     177.0      90.7  52.300000  26.314286  21.385714  61.722857   \n",
       "3   1.38     159.0      90.4  52.300000  26.100000  21.600000  61.330000   \n",
       "4   1.28     173.0      89.6  52.242857  26.671429  21.085714  61.332857   \n",
       "\n",
       "      原料性质：密度  待生吸附剂性质：焦炭  待生吸附剂性质：S  ...  S-ZORB.AT-0011.DACA.PV  \\\n",
       "0  726.085714        2.32       7.30  ...                0.496243   \n",
       "1  731.300000        2.37       7.34  ...                0.491385   \n",
       "2  729.614286        2.43       7.27  ...                0.495483   \n",
       "3  725.400000        3.08       7.35  ...                0.490180   \n",
       "4  725.428571        2.45       6.58  ...                0.501194   \n",
       "\n",
       "   S-ZORB.FT_1204.DACA.PV  S-ZORB.LC_5102.PIDA.PV  S-ZORB.TE_1102.DACA.PV  \\\n",
       "0               18.292067               42.015425              425.929515   \n",
       "1               19.842605               40.903878              421.534365   \n",
       "2               26.994896               42.103142              425.258420   \n",
       "3               26.324458               41.970416              424.406195   \n",
       "4               30.224367               42.900094              428.514740   \n",
       "\n",
       "   S-ZORB.CAL.LINE.PV  S-ZORB.CAL.CANGLIANG.PV  S-ZORB.CAL.SPEED.PV  \\\n",
       "0            0.282564                37.804650             3.324945   \n",
       "1            0.281381                37.876006             3.321169   \n",
       "2            0.282277                37.907927             3.319569   \n",
       "3            0.282275                39.177396             3.210211   \n",
       "4            0.282963                39.508370             3.178832   \n",
       "\n",
       "   S-ZORB.FT_1503.TOTALIZERA.PV  S-ZORB.FT_1504.TOTALIZERA.PV  \\\n",
       "0                    39063124.5                    39608757.0   \n",
       "1                    38810581.5                    39389299.0   \n",
       "2                    38693812.0                    39312616.5   \n",
       "3                    38410862.5                    39120204.5   \n",
       "4                    38283000.0                    39045953.5   \n",
       "\n",
       "   S-ZORB.PC_1001A.PV  \n",
       "0            0.353271  \n",
       "1            0.354504  \n",
       "2            0.350181  \n",
       "3            0.353930  \n",
       "4            0.358053  \n",
       "\n",
       "[5 rows x 199 columns]"
      ]
     },
     "execution_count": 6,
     "metadata": {},
     "output_type": "execute_result"
    }
   ],
   "source": [
    "data_325.head()"
   ]
  },
  {
   "cell_type": "code",
   "execution_count": 7,
   "metadata": {},
   "outputs": [],
   "source": [
    "y = data_325['RON损失']"
   ]
  },
  {
   "cell_type": "code",
   "execution_count": 8,
   "metadata": {},
   "outputs": [],
   "source": [
    "X = data_325[ data_325.columns[1:] ]"
   ]
  },
  {
   "cell_type": "code",
   "execution_count": 9,
   "metadata": {},
   "outputs": [
    {
     "data": {
      "text/plain": [
       "(325, 198)"
      ]
     },
     "execution_count": 9,
     "metadata": {},
     "output_type": "execute_result"
    }
   ],
   "source": [
    "X.shape"
   ]
  },
  {
   "cell_type": "code",
   "execution_count": 10,
   "metadata": {},
   "outputs": [],
   "source": [
    "x_train, x_test, y_train, y_test = train_test_split(X, y, test_size=0.3, random_state=1)"
   ]
  },
  {
   "cell_type": "code",
   "execution_count": 11,
   "metadata": {},
   "outputs": [],
   "source": [
    "from sklearn.linear_model import LinearRegression\n",
    "from sklearn.neighbors import KNeighborsRegressor\n",
    "from sklearn.svm import SVR\n",
    "from sklearn.linear_model import Lasso\n",
    "from sklearn.linear_model import Ridge\n",
    "from sklearn.neural_network import MLPRegressor\n",
    "from sklearn.tree import DecisionTreeRegressor\n",
    "from sklearn.tree import ExtraTreeRegressor\n",
    "from xgboost import XGBRegressor\n",
    "from sklearn.ensemble import RandomForestRegressor\n",
    "from sklearn.ensemble import AdaBoostRegressor\n",
    "from sklearn.ensemble import GradientBoostingRegressor\n",
    "from sklearn.ensemble import BaggingRegressor\n",
    "models=[DecisionTreeRegressor(),RandomForestRegressor(),XGBRegressor(),AdaBoostRegressor(),GradientBoostingRegressor()]\n",
    "models_str=['DecisionTree', 'RandomForestRegressor','XGBoost','AdaBoost','GradientBoost']\n",
    "score_=[]"
   ]
  },
  {
   "cell_type": "code",
   "execution_count": 12,
   "metadata": {},
   "outputs": [],
   "source": [
    "#     print('开始训练模型：'+name)\n",
    "#     model=model   #建立模型\n",
    "#     model.fit(x_train,y_train)\n",
    "#     y_pred=model.predict(x_test)  \n",
    "#     score_model = model.score(x_test,y_test)\n",
    "#     print(name +' 得分:'+str(score_model))"
   ]
  },
  {
   "cell_type": "code",
   "execution_count": 16,
   "metadata": {},
   "outputs": [
    {
     "name": "stdout",
     "output_type": "stream",
     "text": [
      "DecisionTree 最佳得分:-0.4238647006091145\n",
      "DecisionTree 最佳参数: {'max_depth': 8}\n",
      "RandomForestRegressor 最佳得分:0.03820116178531604\n",
      "RandomForestRegressor 最佳参数: {'max_depth': 5, 'n_estimators': 100}\n",
      "XGBoost 最佳得分:0.034331416058391184\n",
      "XGBoost 最佳参数: {'learning_rate': 0.1, 'max_depth': 5, 'min_child_weight': 6, 'n_estimators': 50}\n",
      "AdaBoost 最佳得分:0.09863331340554868\n",
      "AdaBoost 最佳参数: {'learning_rate': 0.1, 'n_estimators': 50}\n",
      "GradientBoost 最佳得分:-0.009613493649491852\n",
      "GradientBoost 最佳参数: {'learning_rate': 0.16, 'max_depth': 5, 'n_estimators': 200}\n"
     ]
    }
   ],
   "source": [
    "for name,model in zip(models_str,models):\n",
    "    if name == 'DecisionTree':\n",
    "        para_dict = {\n",
    "        'max_depth': [5,8,10,15,20]\n",
    "        }\n",
    "    elif name == 'XGBoost':\n",
    "        para_dict = {\n",
    "        \"max_depth\": [5,10,15],\n",
    "        \"min_child_weight\" : [1,3,6],\n",
    "        \"n_estimators\": [50,100,200],\n",
    "        \"learning_rate\": [0.05, 0.1]\n",
    "        }\n",
    "    elif name == 'RandomForestRegressor':\n",
    "        para_dict = {\n",
    "        \"max_depth\": [5,10,15],\n",
    "        \"n_estimators\": [50,100,200]\n",
    "        }\n",
    "    elif name == 'AdaBoost':\n",
    "        para_dict = {\n",
    "        \"n_estimators\": [50,100,200],\n",
    "        \"learning_rate\": [0.05, 0.1]\n",
    "        }\n",
    "    elif name == 'GradientBoost':\n",
    "        para_dict = {\n",
    "        \"max_depth\": [5,10,15],\n",
    "        \"n_estimators\": [50,100,200],\n",
    "        \"learning_rate\": [0.05, 0.1,0.16]\n",
    "        }\n",
    "    gcv = GridSearchCV(model, para_dict)\n",
    "    gcv.fit(x_train,y_train)\n",
    "    gcv_pre = gcv.predict(x_test)\n",
    "    gcv_score = gcv.score(x_test,y_test)\n",
    "    gcv_params = gcv.best_params_\n",
    "    \n",
    "    #model_fearture = model.feature_importances_\n",
    "    print(name +' 最佳得分:'+str(gcv.best_score_ ))\n",
    "    print(name + \" 最佳参数:\", gcv_params)\n",
    "    #print(model_fearture)"
   ]
  },
  {
   "cell_type": "markdown",
   "metadata": {},
   "source": [
    "# RandomForestRegressor "
   ]
  },
  {
   "cell_type": "code",
   "execution_count": 34,
   "metadata": {},
   "outputs": [
    {
     "name": "stdout",
     "output_type": "stream",
     "text": [
      "0.03980836138299636 0.19952032824500956 0.14934061826096606 0.08926292011697334\n"
     ]
    }
   ],
   "source": [
    "model_RFR = RandomForestRegressor(max_depth=5, n_estimators=100, random_state=666)\n",
    "model_RFR.fit(x_train, y_train)\n",
    "y_predict = model_RFR.predict(x_test)\n",
    "model_fearture = model_RFR.feature_importances_\n",
    "mse_score = MSE(y_test, y_predict)\n",
    "rmse_score = np.sqrt(mse_score)\n",
    "mae_score = mean_absolute_error(y_test, y_predict)\n",
    "rr_score = r2_score(y_test, y_predict)\n",
    "print(mse_score, rmse_score, mae_score, rr_score)"
   ]
  },
  {
   "cell_type": "code",
   "execution_count": 42,
   "metadata": {},
   "outputs": [],
   "source": [
    "feature_important_df = pd.DataFrame()"
   ]
  },
  {
   "cell_type": "code",
   "execution_count": 45,
   "metadata": {},
   "outputs": [],
   "source": [
    "feature_important_df[\"特征名称\"] = x_train.columns[:31]\n",
    "feature_important_df[\"重要指数\"] = model_fearture[:31]*10"
   ]
  },
  {
   "cell_type": "code",
   "execution_count": 47,
   "metadata": {
    "scrolled": true
   },
   "outputs": [
    {
     "data": {
      "text/html": [
       "<div>\n",
       "<style scoped>\n",
       "    .dataframe tbody tr th:only-of-type {\n",
       "        vertical-align: middle;\n",
       "    }\n",
       "\n",
       "    .dataframe tbody tr th {\n",
       "        vertical-align: top;\n",
       "    }\n",
       "\n",
       "    .dataframe thead th {\n",
       "        text-align: right;\n",
       "    }\n",
       "</style>\n",
       "<table border=\"1\" class=\"dataframe\">\n",
       "  <thead>\n",
       "    <tr style=\"text-align: right;\">\n",
       "      <th></th>\n",
       "      <th>特征名称</th>\n",
       "      <th>重要指数</th>\n",
       "    </tr>\n",
       "  </thead>\n",
       "  <tbody>\n",
       "    <tr>\n",
       "      <th>0</th>\n",
       "      <td>原料性质：硫含量</td>\n",
       "      <td>0.022559</td>\n",
       "    </tr>\n",
       "    <tr>\n",
       "      <th>1</th>\n",
       "      <td>原料性质：辛烷值</td>\n",
       "      <td>0.228053</td>\n",
       "    </tr>\n",
       "    <tr>\n",
       "      <th>2</th>\n",
       "      <td>原料性质：饱和烃</td>\n",
       "      <td>0.095599</td>\n",
       "    </tr>\n",
       "    <tr>\n",
       "      <th>3</th>\n",
       "      <td>原料性质：烯烃</td>\n",
       "      <td>0.088867</td>\n",
       "    </tr>\n",
       "    <tr>\n",
       "      <th>4</th>\n",
       "      <td>原料性质：芳烃</td>\n",
       "      <td>0.025490</td>\n",
       "    </tr>\n",
       "  </tbody>\n",
       "</table>\n",
       "</div>"
      ],
      "text/plain": [
       "       特征名称      重要指数\n",
       "0  原料性质：硫含量  0.022559\n",
       "1  原料性质：辛烷值  0.228053\n",
       "2  原料性质：饱和烃  0.095599\n",
       "3   原料性质：烯烃  0.088867\n",
       "4   原料性质：芳烃  0.025490"
      ]
     },
     "execution_count": 47,
     "metadata": {},
     "output_type": "execute_result"
    }
   ],
   "source": [
    "feature_important_df.head()"
   ]
  },
  {
   "cell_type": "code",
   "execution_count": 57,
   "metadata": {},
   "outputs": [],
   "source": [
    "feature_important_df = feature_important_df.sort_values(by=['重要指数'],axis = 0,ascending = False)"
   ]
  },
  {
   "cell_type": "code",
   "execution_count": 48,
   "metadata": {},
   "outputs": [],
   "source": [
    "# feature_important = pd.Series(model_fearture[:31]*10, index = x_train.columns[:31]).sort_values(ascending=False)"
   ]
  },
  {
   "cell_type": "code",
   "execution_count": 49,
   "metadata": {},
   "outputs": [],
   "source": [
    "# feature_important_df = pd.DataFrame(feature_important)"
   ]
  },
  {
   "cell_type": "code",
   "execution_count": 50,
   "metadata": {},
   "outputs": [],
   "source": [
    "# feature_important_df = feature_important_df.T"
   ]
  },
  {
   "cell_type": "code",
   "execution_count": 59,
   "metadata": {},
   "outputs": [
    {
     "data": {
      "image/png": "[encoded data removed]",
      "text/plain": [
       "<Figure size 1080x576 with 1 Axes>"
      ]
     },
     "metadata": {
      "needs_background": "light"
     },
     "output_type": "display_data"
    }
   ],
   "source": [
    "plt.figure(figsize=(15, 8))\n",
    "#sns.bar(feature_important.index, feature_important.data)\n",
    "plt.title(\"随机森林回归模型重要参数选择指数\")\n",
    "sns.barplot(x='特征名称',y='重要指数',color=\"salmon\",data=feature_important_df)\n",
    "plt.xticks(rotation=90)\n",
    "plt.show()"
   ]
  },
  {
   "cell_type": "code",
   "execution_count": 60,
   "metadata": {},
   "outputs": [],
   "source": [
    "feature_important_df.to_excel(\"随机森林回归模型重要参数选择指数.xlsx\", index=False)"
   ]
  },
  {
   "cell_type": "markdown",
   "metadata": {},
   "source": [
    "# 极端梯度提升树（eXtreme Gradient Boosting）"
   ]
  },
  {
   "cell_type": "code",
   "execution_count": 73,
   "metadata": {
    "scrolled": true
   },
   "outputs": [
    {
     "name": "stdout",
     "output_type": "stream",
     "text": [
      "0.04219754448828328 0.20542040913279108 0.14997677540292523 0.03460310572068703\n"
     ]
    },
    {
     "data": {
      "text/html": [
       "<div>\n",
       "<style scoped>\n",
       "    .dataframe tbody tr th:only-of-type {\n",
       "        vertical-align: middle;\n",
       "    }\n",
       "\n",
       "    .dataframe tbody tr th {\n",
       "        vertical-align: top;\n",
       "    }\n",
       "\n",
       "    .dataframe thead th {\n",
       "        text-align: right;\n",
       "    }\n",
       "</style>\n",
       "<table border=\"1\" class=\"dataframe\">\n",
       "  <thead>\n",
       "    <tr style=\"text-align: right;\">\n",
       "      <th></th>\n",
       "      <th>特征名称</th>\n",
       "      <th>重要指数</th>\n",
       "    </tr>\n",
       "  </thead>\n",
       "  <tbody>\n",
       "    <tr>\n",
       "      <th>11</th>\n",
       "      <td>S-ZORB.CAL_H2.PV</td>\n",
       "      <td>0.167599</td>\n",
       "    </tr>\n",
       "    <tr>\n",
       "      <th>27</th>\n",
       "      <td>S-ZORB.TE_5202.PV</td>\n",
       "      <td>0.139669</td>\n",
       "    </tr>\n",
       "    <tr>\n",
       "      <th>15</th>\n",
       "      <td>S-ZORB.TE_2103.PV</td>\n",
       "      <td>0.126358</td>\n",
       "    </tr>\n",
       "    <tr>\n",
       "      <th>5</th>\n",
       "      <td>原料性质：溴值</td>\n",
       "      <td>0.124974</td>\n",
       "    </tr>\n",
       "    <tr>\n",
       "      <th>19</th>\n",
       "      <td>S-ZORB.TE_2301.PV</td>\n",
       "      <td>0.123052</td>\n",
       "    </tr>\n",
       "    <tr>\n",
       "      <th>2</th>\n",
       "      <td>原料性质：饱和烃</td>\n",
       "      <td>0.122578</td>\n",
       "    </tr>\n",
       "    <tr>\n",
       "      <th>6</th>\n",
       "      <td>原料性质：密度</td>\n",
       "      <td>0.093132</td>\n",
       "    </tr>\n",
       "    <tr>\n",
       "      <th>3</th>\n",
       "      <td>原料性质：烯烃</td>\n",
       "      <td>0.087576</td>\n",
       "    </tr>\n",
       "    <tr>\n",
       "      <th>1</th>\n",
       "      <td>原料性质：辛烷值</td>\n",
       "      <td>0.079469</td>\n",
       "    </tr>\n",
       "    <tr>\n",
       "      <th>26</th>\n",
       "      <td>S-ZORB.TE_5102.PV</td>\n",
       "      <td>0.071193</td>\n",
       "    </tr>\n",
       "    <tr>\n",
       "      <th>22</th>\n",
       "      <td>S-ZORB.PC_5101.PV</td>\n",
       "      <td>0.054732</td>\n",
       "    </tr>\n",
       "    <tr>\n",
       "      <th>29</th>\n",
       "      <td>S-ZORB.TE_9001.PV</td>\n",
       "      <td>0.053090</td>\n",
       "    </tr>\n",
       "    <tr>\n",
       "      <th>12</th>\n",
       "      <td>S-ZORB.PDI_2102.PV</td>\n",
       "      <td>0.050446</td>\n",
       "    </tr>\n",
       "    <tr>\n",
       "      <th>9</th>\n",
       "      <td>再生吸附剂性质：焦炭</td>\n",
       "      <td>0.047638</td>\n",
       "    </tr>\n",
       "    <tr>\n",
       "      <th>18</th>\n",
       "      <td>S-ZORB.PDT_2104.PV</td>\n",
       "      <td>0.043697</td>\n",
       "    </tr>\n",
       "    <tr>\n",
       "      <th>16</th>\n",
       "      <td>S-ZORB.TE_2005.PV</td>\n",
       "      <td>0.042113</td>\n",
       "    </tr>\n",
       "    <tr>\n",
       "      <th>24</th>\n",
       "      <td>S-ZORB.LC_5001.PV</td>\n",
       "      <td>0.038248</td>\n",
       "    </tr>\n",
       "    <tr>\n",
       "      <th>13</th>\n",
       "      <td>S-ZORB.PT_2801.PV</td>\n",
       "      <td>0.036528</td>\n",
       "    </tr>\n",
       "    <tr>\n",
       "      <th>25</th>\n",
       "      <td>S-ZORB.LC_5101.PV</td>\n",
       "      <td>0.036270</td>\n",
       "    </tr>\n",
       "    <tr>\n",
       "      <th>23</th>\n",
       "      <td>S-ZORB.TC_5005.PV</td>\n",
       "      <td>0.036050</td>\n",
       "    </tr>\n",
       "    <tr>\n",
       "      <th>8</th>\n",
       "      <td>待生吸附剂性质：S</td>\n",
       "      <td>0.028578</td>\n",
       "    </tr>\n",
       "    <tr>\n",
       "      <th>14</th>\n",
       "      <td>S-ZORB.FC_2801.PV</td>\n",
       "      <td>0.024440</td>\n",
       "    </tr>\n",
       "    <tr>\n",
       "      <th>30</th>\n",
       "      <td>S-ZORB.FT_9001.PV</td>\n",
       "      <td>0.023968</td>\n",
       "    </tr>\n",
       "    <tr>\n",
       "      <th>7</th>\n",
       "      <td>待生吸附剂性质：焦炭</td>\n",
       "      <td>0.019693</td>\n",
       "    </tr>\n",
       "    <tr>\n",
       "      <th>17</th>\n",
       "      <td>S-ZORB.PT_2101.PV</td>\n",
       "      <td>0.018829</td>\n",
       "    </tr>\n",
       "    <tr>\n",
       "      <th>28</th>\n",
       "      <td>S-ZORB.FT_5101.PV</td>\n",
       "      <td>0.015335</td>\n",
       "    </tr>\n",
       "    <tr>\n",
       "      <th>10</th>\n",
       "      <td>再生吸附剂性质：S</td>\n",
       "      <td>0.009200</td>\n",
       "    </tr>\n",
       "    <tr>\n",
       "      <th>21</th>\n",
       "      <td>S-ZORB.PC_2105.PV</td>\n",
       "      <td>0.003577</td>\n",
       "    </tr>\n",
       "    <tr>\n",
       "      <th>20</th>\n",
       "      <td>S-ZORB.PT_2301.PV</td>\n",
       "      <td>0.000000</td>\n",
       "    </tr>\n",
       "    <tr>\n",
       "      <th>4</th>\n",
       "      <td>原料性质：芳烃</td>\n",
       "      <td>0.000000</td>\n",
       "    </tr>\n",
       "    <tr>\n",
       "      <th>0</th>\n",
       "      <td>原料性质：硫含量</td>\n",
       "      <td>0.000000</td>\n",
       "    </tr>\n",
       "  </tbody>\n",
       "</table>\n",
       "</div>"
      ],
      "text/plain": [
       "                  特征名称      重要指数\n",
       "11    S-ZORB.CAL_H2.PV  0.167599\n",
       "27   S-ZORB.TE_5202.PV  0.139669\n",
       "15   S-ZORB.TE_2103.PV  0.126358\n",
       "5              原料性质：溴值  0.124974\n",
       "19   S-ZORB.TE_2301.PV  0.123052\n",
       "2             原料性质：饱和烃  0.122578\n",
       "6              原料性质：密度  0.093132\n",
       "3              原料性质：烯烃  0.087576\n",
       "1             原料性质：辛烷值  0.079469\n",
       "26   S-ZORB.TE_5102.PV  0.071193\n",
       "22   S-ZORB.PC_5101.PV  0.054732\n",
       "29   S-ZORB.TE_9001.PV  0.053090\n",
       "12  S-ZORB.PDI_2102.PV  0.050446\n",
       "9           再生吸附剂性质：焦炭  0.047638\n",
       "18  S-ZORB.PDT_2104.PV  0.043697\n",
       "16   S-ZORB.TE_2005.PV  0.042113\n",
       "24   S-ZORB.LC_5001.PV  0.038248\n",
       "13   S-ZORB.PT_2801.PV  0.036528\n",
       "25   S-ZORB.LC_5101.PV  0.036270\n",
       "23   S-ZORB.TC_5005.PV  0.036050\n",
       "8            待生吸附剂性质：S  0.028578\n",
       "14   S-ZORB.FC_2801.PV  0.024440\n",
       "30   S-ZORB.FT_9001.PV  0.023968\n",
       "7           待生吸附剂性质：焦炭  0.019693\n",
       "17   S-ZORB.PT_2101.PV  0.018829\n",
       "28   S-ZORB.FT_5101.PV  0.015335\n",
       "10           再生吸附剂性质：S  0.009200\n",
       "21   S-ZORB.PC_2105.PV  0.003577\n",
       "20   S-ZORB.PT_2301.PV  0.000000\n",
       "4              原料性质：芳烃  0.000000\n",
       "0             原料性质：硫含量  0.000000"
      ]
     },
     "execution_count": 73,
     "metadata": {},
     "output_type": "execute_result"
    }
   ],
   "source": [
    "model_XGBR = XGBRegressor(learning_rate=0.1, max_depth=5, min_child_weight=6, n_estimators=50, random_state=666)\n",
    "model_XGBR.fit(x_train, y_train)\n",
    "y_predict = model_XGBR.predict(x_test)\n",
    "model_fearture = model_XGBR.feature_importances_\n",
    "mse_score = MSE(y_test, y_predict)\n",
    "rmse_score = np.sqrt(mse_score)\n",
    "mae_score = mean_absolute_error(y_test, y_predict)\n",
    "rr_score = r2_score(y_test, y_predict)\n",
    "print(mse_score, rmse_score, mae_score, rr_score)\n",
    "feature_important_df = pd.DataFrame()\n",
    "feature_important_df[\"特征名称\"] = x_train.columns[:31]\n",
    "feature_important_df[\"重要指数\"] = model_fearture[:31]*10\n",
    "feature_important_df = feature_important_df.sort_values(by=['重要指数'],axis = 0,ascending = False)\n",
    "feature_important_df"
   ]
  },
  {
   "cell_type": "code",
   "execution_count": 75,
   "metadata": {},
   "outputs": [
    {
     "data": {
      "image/png": "[encoded data removed]",
      "text/plain": [
       "<Figure size 1080x576 with 1 Axes>"
      ]
     },
     "metadata": {
      "needs_background": "light"
     },
     "output_type": "display_data"
    }
   ],
   "source": [
    "plt.figure(figsize=(15, 8))\n",
    "#sns.bar(feature_important.index, feature_important.data)\n",
    "plt.title(\"极端梯度提升树XGBoost回归模型重要参数选择指数\")\n",
    "sns.barplot(x='特征名称',y='重要指数',color=\"salmon\",data=feature_important_df)\n",
    "plt.xticks(rotation=90)\n",
    "plt.show()"
   ]
  },
  {
   "cell_type": "code",
   "execution_count": 76,
   "metadata": {},
   "outputs": [],
   "source": [
    "feature_important_df.to_excel(\"极端梯度提升树XGBoost回归模型重要参数选择指数.xlsx\", index=False)"
   ]
  },
  {
   "cell_type": "markdown",
   "metadata": {},
   "source": [
    "# AdaBoost回归"
   ]
  },
  {
   "cell_type": "code",
   "execution_count": 83,
   "metadata": {
    "scrolled": true
   },
   "outputs": [
    {
     "name": "stdout",
     "output_type": "stream",
     "text": [
      "0.042244492315692085 0.20553464991502549 0.15378136116509966 0.03352903168810417\n"
     ]
    },
    {
     "data": {
      "text/html": [
       "<div>\n",
       "<style scoped>\n",
       "    .dataframe tbody tr th:only-of-type {\n",
       "        vertical-align: middle;\n",
       "    }\n",
       "\n",
       "    .dataframe tbody tr th {\n",
       "        vertical-align: top;\n",
       "    }\n",
       "\n",
       "    .dataframe thead th {\n",
       "        text-align: right;\n",
       "    }\n",
       "</style>\n",
       "<table border=\"1\" class=\"dataframe\">\n",
       "  <thead>\n",
       "    <tr style=\"text-align: right;\">\n",
       "      <th></th>\n",
       "      <th>特征名称</th>\n",
       "      <th>重要指数</th>\n",
       "    </tr>\n",
       "  </thead>\n",
       "  <tbody>\n",
       "    <tr>\n",
       "      <th>0</th>\n",
       "      <td>S-ZORB.TE_5202.PV</td>\n",
       "      <td>0.487598</td>\n",
       "    </tr>\n",
       "    <tr>\n",
       "      <th>1</th>\n",
       "      <td>原料性质：辛烷值</td>\n",
       "      <td>0.331906</td>\n",
       "    </tr>\n",
       "    <tr>\n",
       "      <th>2</th>\n",
       "      <td>S-ZORB.TE_5102.PV</td>\n",
       "      <td>0.253407</td>\n",
       "    </tr>\n",
       "    <tr>\n",
       "      <th>3</th>\n",
       "      <td>S-ZORB.LC_5101.PV</td>\n",
       "      <td>0.152286</td>\n",
       "    </tr>\n",
       "    <tr>\n",
       "      <th>4</th>\n",
       "      <td>原料性质：烯烃</td>\n",
       "      <td>0.151244</td>\n",
       "    </tr>\n",
       "    <tr>\n",
       "      <th>5</th>\n",
       "      <td>S-ZORB.CAL_H2.PV</td>\n",
       "      <td>0.150173</td>\n",
       "    </tr>\n",
       "    <tr>\n",
       "      <th>6</th>\n",
       "      <td>S-ZORB.FT_9001.PV</td>\n",
       "      <td>0.094015</td>\n",
       "    </tr>\n",
       "    <tr>\n",
       "      <th>7</th>\n",
       "      <td>原料性质：饱和烃</td>\n",
       "      <td>0.068202</td>\n",
       "    </tr>\n",
       "    <tr>\n",
       "      <th>8</th>\n",
       "      <td>原料性质：密度</td>\n",
       "      <td>0.054284</td>\n",
       "    </tr>\n",
       "    <tr>\n",
       "      <th>9</th>\n",
       "      <td>原料性质：溴值</td>\n",
       "      <td>0.040901</td>\n",
       "    </tr>\n",
       "    <tr>\n",
       "      <th>10</th>\n",
       "      <td>再生吸附剂性质：焦炭</td>\n",
       "      <td>0.034540</td>\n",
       "    </tr>\n",
       "    <tr>\n",
       "      <th>11</th>\n",
       "      <td>S-ZORB.TE_9001.PV</td>\n",
       "      <td>0.032275</td>\n",
       "    </tr>\n",
       "    <tr>\n",
       "      <th>12</th>\n",
       "      <td>S-ZORB.PC_5101.PV</td>\n",
       "      <td>0.025973</td>\n",
       "    </tr>\n",
       "    <tr>\n",
       "      <th>13</th>\n",
       "      <td>再生吸附剂性质：S</td>\n",
       "      <td>0.023200</td>\n",
       "    </tr>\n",
       "    <tr>\n",
       "      <th>14</th>\n",
       "      <td>S-ZORB.LC_5001.PV</td>\n",
       "      <td>0.006834</td>\n",
       "    </tr>\n",
       "    <tr>\n",
       "      <th>15</th>\n",
       "      <td>S-ZORB.TE_2005.PV</td>\n",
       "      <td>0.005834</td>\n",
       "    </tr>\n",
       "    <tr>\n",
       "      <th>16</th>\n",
       "      <td>原料性质：硫含量</td>\n",
       "      <td>0.004876</td>\n",
       "    </tr>\n",
       "    <tr>\n",
       "      <th>17</th>\n",
       "      <td>S-ZORB.PT_2101.PV</td>\n",
       "      <td>0.000000</td>\n",
       "    </tr>\n",
       "    <tr>\n",
       "      <th>18</th>\n",
       "      <td>S-ZORB.PDT_2104.PV</td>\n",
       "      <td>0.000000</td>\n",
       "    </tr>\n",
       "    <tr>\n",
       "      <th>19</th>\n",
       "      <td>S-ZORB.TE_2301.PV</td>\n",
       "      <td>0.000000</td>\n",
       "    </tr>\n",
       "    <tr>\n",
       "      <th>20</th>\n",
       "      <td>S-ZORB.PT_2301.PV</td>\n",
       "      <td>0.000000</td>\n",
       "    </tr>\n",
       "    <tr>\n",
       "      <th>21</th>\n",
       "      <td>S-ZORB.PC_2105.PV</td>\n",
       "      <td>0.000000</td>\n",
       "    </tr>\n",
       "    <tr>\n",
       "      <th>22</th>\n",
       "      <td>S-ZORB.FC_2801.PV</td>\n",
       "      <td>0.000000</td>\n",
       "    </tr>\n",
       "    <tr>\n",
       "      <th>23</th>\n",
       "      <td>S-ZORB.TC_5005.PV</td>\n",
       "      <td>0.000000</td>\n",
       "    </tr>\n",
       "    <tr>\n",
       "      <th>24</th>\n",
       "      <td>S-ZORB.PT_2801.PV</td>\n",
       "      <td>0.000000</td>\n",
       "    </tr>\n",
       "    <tr>\n",
       "      <th>25</th>\n",
       "      <td>S-ZORB.PDI_2102.PV</td>\n",
       "      <td>0.000000</td>\n",
       "    </tr>\n",
       "    <tr>\n",
       "      <th>26</th>\n",
       "      <td>待生吸附剂性质：S</td>\n",
       "      <td>0.000000</td>\n",
       "    </tr>\n",
       "    <tr>\n",
       "      <th>27</th>\n",
       "      <td>待生吸附剂性质：焦炭</td>\n",
       "      <td>0.000000</td>\n",
       "    </tr>\n",
       "    <tr>\n",
       "      <th>28</th>\n",
       "      <td>S-ZORB.FT_5101.PV</td>\n",
       "      <td>0.000000</td>\n",
       "    </tr>\n",
       "    <tr>\n",
       "      <th>29</th>\n",
       "      <td>原料性质：芳烃</td>\n",
       "      <td>0.000000</td>\n",
       "    </tr>\n",
       "    <tr>\n",
       "      <th>30</th>\n",
       "      <td>S-ZORB.TE_2103.PV</td>\n",
       "      <td>0.000000</td>\n",
       "    </tr>\n",
       "  </tbody>\n",
       "</table>\n",
       "</div>"
      ],
      "text/plain": [
       "                  特征名称      重要指数\n",
       "0    S-ZORB.TE_5202.PV  0.487598\n",
       "1             原料性质：辛烷值  0.331906\n",
       "2    S-ZORB.TE_5102.PV  0.253407\n",
       "3    S-ZORB.LC_5101.PV  0.152286\n",
       "4              原料性质：烯烃  0.151244\n",
       "5     S-ZORB.CAL_H2.PV  0.150173\n",
       "6    S-ZORB.FT_9001.PV  0.094015\n",
       "7             原料性质：饱和烃  0.068202\n",
       "8              原料性质：密度  0.054284\n",
       "9              原料性质：溴值  0.040901\n",
       "10          再生吸附剂性质：焦炭  0.034540\n",
       "11   S-ZORB.TE_9001.PV  0.032275\n",
       "12   S-ZORB.PC_5101.PV  0.025973\n",
       "13           再生吸附剂性质：S  0.023200\n",
       "14   S-ZORB.LC_5001.PV  0.006834\n",
       "15   S-ZORB.TE_2005.PV  0.005834\n",
       "16            原料性质：硫含量  0.004876\n",
       "17   S-ZORB.PT_2101.PV  0.000000\n",
       "18  S-ZORB.PDT_2104.PV  0.000000\n",
       "19   S-ZORB.TE_2301.PV  0.000000\n",
       "20   S-ZORB.PT_2301.PV  0.000000\n",
       "21   S-ZORB.PC_2105.PV  0.000000\n",
       "22   S-ZORB.FC_2801.PV  0.000000\n",
       "23   S-ZORB.TC_5005.PV  0.000000\n",
       "24   S-ZORB.PT_2801.PV  0.000000\n",
       "25  S-ZORB.PDI_2102.PV  0.000000\n",
       "26           待生吸附剂性质：S  0.000000\n",
       "27          待生吸附剂性质：焦炭  0.000000\n",
       "28   S-ZORB.FT_5101.PV  0.000000\n",
       "29             原料性质：芳烃  0.000000\n",
       "30   S-ZORB.TE_2103.PV  0.000000"
      ]
     },
     "execution_count": 83,
     "metadata": {},
     "output_type": "execute_result"
    }
   ],
   "source": [
    "model_AdaBR = AdaBoostRegressor(learning_rate=0.1, n_estimators=50, random_state=666)\n",
    "model_AdaBR.fit(x_train, y_train)\n",
    "y_predict = model_AdaBR.predict(x_test)\n",
    "model_fearture = model_AdaBR.feature_importances_\n",
    "mse_score = MSE(y_test, y_predict)\n",
    "rmse_score = np.sqrt(mse_score)\n",
    "mae_score = mean_absolute_error(y_test, y_predict)\n",
    "rr_score = r2_score(y_test, y_predict)\n",
    "print(mse_score, rmse_score, mae_score, rr_score)\n",
    "feature_important_df = pd.DataFrame()\n",
    "feature_important_df[\"特征名称\"] = x_train.columns[:31]\n",
    "feature_important_df[\"重要指数\"] = model_fearture[:31]*10\n",
    "feature_important_df = feature_important_df.sort_values(by=['重要指数'],axis = 0,ascending = False)\n",
    "feature_important_df = feature_important_df.reset_index(drop=True) \n",
    "feature_important_df"
   ]
  },
  {
   "cell_type": "code",
   "execution_count": 86,
   "metadata": {},
   "outputs": [
    {
     "data": {
      "image/png": "[encoded data removed]",
      "text/plain": [
       "<Figure size 1080x576 with 1 Axes>"
      ]
     },
     "metadata": {
      "needs_background": "light"
     },
     "output_type": "display_data"
    }
   ],
   "source": [
    "plt.figure(figsize=(15, 8))\n",
    "#sns.bar(feature_important.index, feature_important.data)\n",
    "plt.title(\"AdaBoost回归\")\n",
    "sns.barplot(x='特征名称',y='重要指数',color=\"salmon\",data=feature_important_df[:20])\n",
    "plt.xticks(rotation=90)\n",
    "plt.show()"
   ]
  },
  {
   "cell_type": "code",
   "execution_count": 87,
   "metadata": {},
   "outputs": [],
   "source": [
    "feature_important_df.to_excel(\"AdaBoost回归模型重要参数选择指数.xlsx\", index=False)"
   ]
  },
  {
   "cell_type": "code",
   "execution_count": null,
   "metadata": {},
   "outputs": [],
   "source": []
  },
  {
   "cell_type": "code",
   "execution_count": null,
   "metadata": {},
   "outputs": [],
   "source": [
    "# from sklearn.feature_selection import SelectFromModel\n",
    "# from sklearn.ensemble import RandomForestRegressor # 同样以此模型举例\n",
    "# rf = RandomForestRegressor() # 默认参数\n",
    "# rf.fit(X, y)\n",
    "# model = SelectFromModel(rf)\n",
    "# X_new = model.transform(X)"
   ]
  }
 ],
 "metadata": {
  "kernelspec": {
   "display_name": "Python 3",
   "language": "python",
   "name": "python3"
  },
  "language_info": {
   "codemirror_mode": {
    "name": "ipython",
    "version": 3
   },
   "file_extension": ".py",
   "mimetype": "text/x-python",
   "name": "python",
   "nbconvert_exporter": "python",
   "pygments_lexer": "ipython3",
   "version": "3.7.3"
  }
 },
 "nbformat": 4,
 "nbformat_minor": 2
}
